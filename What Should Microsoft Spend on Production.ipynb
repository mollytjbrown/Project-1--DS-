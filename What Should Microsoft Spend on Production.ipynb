{
 "cells": [
  {
   "cell_type": "markdown",
   "metadata": {},
   "source": [
    "In this notebook, I will be answering the following questions: \n",
    "1. what relationship does the production budget of a film have to its domestic profit?\n",
    "2. What is the average budget to profit relationship for all movies? \n",
    "3. What is the average budget to profit relationship for the ten highest earners?\n",
    "4. What is the average budget to profit relationship for the movies with the ten highest budgets?"
   ]
  },
  {
   "cell_type": "markdown",
   "metadata": {},
   "source": [
    "I will begin by importing a general collection of libraries: "
   ]
  },
  {
   "cell_type": "code",
   "execution_count": 24,
   "metadata": {},
   "outputs": [],
   "source": [
    "import pandas as pd\n",
    "import numpy as np\n",
    "import seaborn as sns\n",
    "import matplotlib.pyplot as plt\n",
    "%matplotlib inline "
   ]
  },
  {
   "cell_type": "markdown",
   "metadata": {},
   "source": [
    "To answer question 1, I will explore the realtionship between budget and profit. I will import the dataframs with the necessary information: "
   ]
  },
  {
   "cell_type": "code",
   "execution_count": 25,
   "metadata": {},
   "outputs": [],
   "source": [
    "gross = pd.read_csv('/Users/molly/flatiron-ds-course/project1/dsc-mod-1-project-v2-1-online-ds-sp-000/zippedData/bom.movie_gross.csv.gz')\n",
    "budget = pd.read_csv('/Users/molly/flatiron-ds-course/project1/dsc-mod-1-project-v2-1-online-ds-sp-000/zippedData/tn.movie_budgets.csv.gz')"
   ]
  },
  {
   "cell_type": "markdown",
   "metadata": {},
   "source": [
    "Now that I have imported both dataframes, I will take a superficial look at the data. "
   ]
  },
  {
   "cell_type": "code",
   "execution_count": 26,
   "metadata": {},
   "outputs": [
    {
     "data": {
      "text/html": [
       "<div>\n",
       "<style scoped>\n",
       "    .dataframe tbody tr th:only-of-type {\n",
       "        vertical-align: middle;\n",
       "    }\n",
       "\n",
       "    .dataframe tbody tr th {\n",
       "        vertical-align: top;\n",
       "    }\n",
       "\n",
       "    .dataframe thead th {\n",
       "        text-align: right;\n",
       "    }\n",
       "</style>\n",
       "<table border=\"1\" class=\"dataframe\">\n",
       "  <thead>\n",
       "    <tr style=\"text-align: right;\">\n",
       "      <th></th>\n",
       "      <th>title</th>\n",
       "      <th>studio</th>\n",
       "      <th>domestic_gross</th>\n",
       "      <th>foreign_gross</th>\n",
       "      <th>year</th>\n",
       "    </tr>\n",
       "  </thead>\n",
       "  <tbody>\n",
       "    <tr>\n",
       "      <td>0</td>\n",
       "      <td>Toy Story 3</td>\n",
       "      <td>BV</td>\n",
       "      <td>415000000.0</td>\n",
       "      <td>652000000</td>\n",
       "      <td>2010</td>\n",
       "    </tr>\n",
       "    <tr>\n",
       "      <td>1</td>\n",
       "      <td>Alice in Wonderland (2010)</td>\n",
       "      <td>BV</td>\n",
       "      <td>334200000.0</td>\n",
       "      <td>691300000</td>\n",
       "      <td>2010</td>\n",
       "    </tr>\n",
       "    <tr>\n",
       "      <td>2</td>\n",
       "      <td>Harry Potter and the Deathly Hallows Part 1</td>\n",
       "      <td>WB</td>\n",
       "      <td>296000000.0</td>\n",
       "      <td>664300000</td>\n",
       "      <td>2010</td>\n",
       "    </tr>\n",
       "    <tr>\n",
       "      <td>3</td>\n",
       "      <td>Inception</td>\n",
       "      <td>WB</td>\n",
       "      <td>292600000.0</td>\n",
       "      <td>535700000</td>\n",
       "      <td>2010</td>\n",
       "    </tr>\n",
       "    <tr>\n",
       "      <td>4</td>\n",
       "      <td>Shrek Forever After</td>\n",
       "      <td>P/DW</td>\n",
       "      <td>238700000.0</td>\n",
       "      <td>513900000</td>\n",
       "      <td>2010</td>\n",
       "    </tr>\n",
       "  </tbody>\n",
       "</table>\n",
       "</div>"
      ],
      "text/plain": [
       "                                         title studio  domestic_gross  \\\n",
       "0                                  Toy Story 3     BV     415000000.0   \n",
       "1                   Alice in Wonderland (2010)     BV     334200000.0   \n",
       "2  Harry Potter and the Deathly Hallows Part 1     WB     296000000.0   \n",
       "3                                    Inception     WB     292600000.0   \n",
       "4                          Shrek Forever After   P/DW     238700000.0   \n",
       "\n",
       "  foreign_gross  year  \n",
       "0     652000000  2010  \n",
       "1     691300000  2010  \n",
       "2     664300000  2010  \n",
       "3     535700000  2010  \n",
       "4     513900000  2010  "
      ]
     },
     "execution_count": 26,
     "metadata": {},
     "output_type": "execute_result"
    }
   ],
   "source": [
    "gross.head()"
   ]
  },
  {
   "cell_type": "code",
   "execution_count": 27,
   "metadata": {},
   "outputs": [
    {
     "data": {
      "text/html": [
       "<div>\n",
       "<style scoped>\n",
       "    .dataframe tbody tr th:only-of-type {\n",
       "        vertical-align: middle;\n",
       "    }\n",
       "\n",
       "    .dataframe tbody tr th {\n",
       "        vertical-align: top;\n",
       "    }\n",
       "\n",
       "    .dataframe thead th {\n",
       "        text-align: right;\n",
       "    }\n",
       "</style>\n",
       "<table border=\"1\" class=\"dataframe\">\n",
       "  <thead>\n",
       "    <tr style=\"text-align: right;\">\n",
       "      <th></th>\n",
       "      <th>id</th>\n",
       "      <th>release_date</th>\n",
       "      <th>movie</th>\n",
       "      <th>production_budget</th>\n",
       "      <th>domestic_gross</th>\n",
       "      <th>worldwide_gross</th>\n",
       "    </tr>\n",
       "  </thead>\n",
       "  <tbody>\n",
       "    <tr>\n",
       "      <td>0</td>\n",
       "      <td>1</td>\n",
       "      <td>Dec 18, 2009</td>\n",
       "      <td>Avatar</td>\n",
       "      <td>$425,000,000</td>\n",
       "      <td>$760,507,625</td>\n",
       "      <td>$2,776,345,279</td>\n",
       "    </tr>\n",
       "    <tr>\n",
       "      <td>1</td>\n",
       "      <td>2</td>\n",
       "      <td>May 20, 2011</td>\n",
       "      <td>Pirates of the Caribbean: On Stranger Tides</td>\n",
       "      <td>$410,600,000</td>\n",
       "      <td>$241,063,875</td>\n",
       "      <td>$1,045,663,875</td>\n",
       "    </tr>\n",
       "    <tr>\n",
       "      <td>2</td>\n",
       "      <td>3</td>\n",
       "      <td>Jun 7, 2019</td>\n",
       "      <td>Dark Phoenix</td>\n",
       "      <td>$350,000,000</td>\n",
       "      <td>$42,762,350</td>\n",
       "      <td>$149,762,350</td>\n",
       "    </tr>\n",
       "    <tr>\n",
       "      <td>3</td>\n",
       "      <td>4</td>\n",
       "      <td>May 1, 2015</td>\n",
       "      <td>Avengers: Age of Ultron</td>\n",
       "      <td>$330,600,000</td>\n",
       "      <td>$459,005,868</td>\n",
       "      <td>$1,403,013,963</td>\n",
       "    </tr>\n",
       "    <tr>\n",
       "      <td>4</td>\n",
       "      <td>5</td>\n",
       "      <td>Dec 15, 2017</td>\n",
       "      <td>Star Wars Ep. VIII: The Last Jedi</td>\n",
       "      <td>$317,000,000</td>\n",
       "      <td>$620,181,382</td>\n",
       "      <td>$1,316,721,747</td>\n",
       "    </tr>\n",
       "  </tbody>\n",
       "</table>\n",
       "</div>"
      ],
      "text/plain": [
       "   id  release_date                                        movie  \\\n",
       "0   1  Dec 18, 2009                                       Avatar   \n",
       "1   2  May 20, 2011  Pirates of the Caribbean: On Stranger Tides   \n",
       "2   3   Jun 7, 2019                                 Dark Phoenix   \n",
       "3   4   May 1, 2015                      Avengers: Age of Ultron   \n",
       "4   5  Dec 15, 2017            Star Wars Ep. VIII: The Last Jedi   \n",
       "\n",
       "  production_budget domestic_gross worldwide_gross  \n",
       "0      $425,000,000   $760,507,625  $2,776,345,279  \n",
       "1      $410,600,000   $241,063,875  $1,045,663,875  \n",
       "2      $350,000,000    $42,762,350    $149,762,350  \n",
       "3      $330,600,000   $459,005,868  $1,403,013,963  \n",
       "4      $317,000,000   $620,181,382  $1,316,721,747  "
      ]
     },
     "execution_count": 27,
     "metadata": {},
     "output_type": "execute_result"
    }
   ],
   "source": [
    "budget.head()"
   ]
  },
  {
   "cell_type": "code",
   "execution_count": 28,
   "metadata": {},
   "outputs": [
    {
     "name": "stdout",
     "output_type": "stream",
     "text": [
      "<class 'pandas.core.frame.DataFrame'>\n",
      "RangeIndex: 3387 entries, 0 to 3386\n",
      "Data columns (total 5 columns):\n",
      "title             3387 non-null object\n",
      "studio            3382 non-null object\n",
      "domestic_gross    3359 non-null float64\n",
      "foreign_gross     2037 non-null object\n",
      "year              3387 non-null int64\n",
      "dtypes: float64(1), int64(1), object(3)\n",
      "memory usage: 132.4+ KB\n"
     ]
    }
   ],
   "source": [
    "gross.info()"
   ]
  },
  {
   "cell_type": "code",
   "execution_count": 29,
   "metadata": {},
   "outputs": [
    {
     "name": "stdout",
     "output_type": "stream",
     "text": [
      "<class 'pandas.core.frame.DataFrame'>\n",
      "RangeIndex: 5782 entries, 0 to 5781\n",
      "Data columns (total 6 columns):\n",
      "id                   5782 non-null int64\n",
      "release_date         5782 non-null object\n",
      "movie                5782 non-null object\n",
      "production_budget    5782 non-null object\n",
      "domestic_gross       5782 non-null object\n",
      "worldwide_gross      5782 non-null object\n",
      "dtypes: int64(1), object(5)\n",
      "memory usage: 271.2+ KB\n"
     ]
    }
   ],
   "source": [
    "budget.info()"
   ]
  },
  {
   "cell_type": "markdown",
   "metadata": {},
   "source": [
    "To compare each dataframe, gross shows 3,387 entries, and budget shows 5,782. Gross also has a few missing values (many under foreign_gross it seems), and budget has none. "
   ]
  },
  {
   "cell_type": "code",
   "execution_count": 30,
   "metadata": {},
   "outputs": [
    {
     "data": {
      "text/plain": [
       "title                0\n",
       "studio               5\n",
       "domestic_gross      28\n",
       "foreign_gross     1350\n",
       "year                 0\n",
       "dtype: int64"
      ]
     },
     "execution_count": 30,
     "metadata": {},
     "output_type": "execute_result"
    }
   ],
   "source": [
    "gross.isna().sum()"
   ]
  },
  {
   "cell_type": "markdown",
   "metadata": {},
   "source": [
    "Because only 28 datapoints are missing under domestic_gross, I will replace the null values with the mean value of that column. \n",
    "\n",
    "I will go ahead and delete the foreign_gross column, since I am not interested in its data to answer my questions, and also it has many missing values. \n",
    "\n",
    "I will also replace the 5 missing studios with \"Unknown Studio\""
   ]
  },
  {
   "cell_type": "code",
   "execution_count": 56,
   "metadata": {},
   "outputs": [
    {
     "data": {
      "text/plain": [
       "title             0\n",
       "studio            0\n",
       "domestic_gross    0\n",
       "year              0\n",
       "dtype: int64"
      ]
     },
     "execution_count": 56,
     "metadata": {},
     "output_type": "execute_result"
    }
   ],
   "source": [
    "mean_domestic = gross['domestic_gross'].mean()\n",
    "gross['domestic_gross'].fillna(mean_domestic, inplace=True)\n",
    "gross['studio'].fillna(\"Unknown Studio\", inplace=True)\n",
    "#gross.drop('foreign_gross', axis=1, inplace=True)\n",
    "#now, to check that we have zero missing values:\n",
    "gross.isna().sum()"
   ]
  },
  {
   "cell_type": "markdown",
   "metadata": {},
   "source": [
    "I will now connect the gross data frame to the budget dataframe and call the new dataframe \"gross_and_budget\""
   ]
  },
  {
   "cell_type": "code",
   "execution_count": 50,
   "metadata": {
    "scrolled": true
   },
   "outputs": [
    {
     "data": {
      "text/html": [
       "<div>\n",
       "<style scoped>\n",
       "    .dataframe tbody tr th:only-of-type {\n",
       "        vertical-align: middle;\n",
       "    }\n",
       "\n",
       "    .dataframe tbody tr th {\n",
       "        vertical-align: top;\n",
       "    }\n",
       "\n",
       "    .dataframe thead th {\n",
       "        text-align: right;\n",
       "    }\n",
       "</style>\n",
       "<table border=\"1\" class=\"dataframe\">\n",
       "  <thead>\n",
       "    <tr style=\"text-align: right;\">\n",
       "      <th></th>\n",
       "      <th>domestic_gross</th>\n",
       "      <th>id</th>\n",
       "      <th>movie</th>\n",
       "      <th>production_budget</th>\n",
       "      <th>release_date</th>\n",
       "      <th>studio</th>\n",
       "      <th>title</th>\n",
       "      <th>worldwide_gross</th>\n",
       "      <th>year</th>\n",
       "    </tr>\n",
       "  </thead>\n",
       "  <tbody>\n",
       "    <tr>\n",
       "      <td>0</td>\n",
       "      <td>4.15e+08</td>\n",
       "      <td>NaN</td>\n",
       "      <td>NaN</td>\n",
       "      <td>NaN</td>\n",
       "      <td>NaN</td>\n",
       "      <td>BV</td>\n",
       "      <td>Toy Story 3</td>\n",
       "      <td>NaN</td>\n",
       "      <td>2010.0</td>\n",
       "    </tr>\n",
       "    <tr>\n",
       "      <td>1</td>\n",
       "      <td>3.342e+08</td>\n",
       "      <td>NaN</td>\n",
       "      <td>NaN</td>\n",
       "      <td>NaN</td>\n",
       "      <td>NaN</td>\n",
       "      <td>BV</td>\n",
       "      <td>Alice in Wonderland (2010)</td>\n",
       "      <td>NaN</td>\n",
       "      <td>2010.0</td>\n",
       "    </tr>\n",
       "    <tr>\n",
       "      <td>2</td>\n",
       "      <td>2.96e+08</td>\n",
       "      <td>NaN</td>\n",
       "      <td>NaN</td>\n",
       "      <td>NaN</td>\n",
       "      <td>NaN</td>\n",
       "      <td>WB</td>\n",
       "      <td>Harry Potter and the Deathly Hallows Part 1</td>\n",
       "      <td>NaN</td>\n",
       "      <td>2010.0</td>\n",
       "    </tr>\n",
       "    <tr>\n",
       "      <td>3</td>\n",
       "      <td>2.926e+08</td>\n",
       "      <td>NaN</td>\n",
       "      <td>NaN</td>\n",
       "      <td>NaN</td>\n",
       "      <td>NaN</td>\n",
       "      <td>WB</td>\n",
       "      <td>Inception</td>\n",
       "      <td>NaN</td>\n",
       "      <td>2010.0</td>\n",
       "    </tr>\n",
       "    <tr>\n",
       "      <td>4</td>\n",
       "      <td>2.387e+08</td>\n",
       "      <td>NaN</td>\n",
       "      <td>NaN</td>\n",
       "      <td>NaN</td>\n",
       "      <td>NaN</td>\n",
       "      <td>P/DW</td>\n",
       "      <td>Shrek Forever After</td>\n",
       "      <td>NaN</td>\n",
       "      <td>2010.0</td>\n",
       "    </tr>\n",
       "  </tbody>\n",
       "</table>\n",
       "</div>"
      ],
      "text/plain": [
       "  domestic_gross  id movie production_budget release_date studio  \\\n",
       "0       4.15e+08 NaN   NaN               NaN          NaN     BV   \n",
       "1      3.342e+08 NaN   NaN               NaN          NaN     BV   \n",
       "2       2.96e+08 NaN   NaN               NaN          NaN     WB   \n",
       "3      2.926e+08 NaN   NaN               NaN          NaN     WB   \n",
       "4      2.387e+08 NaN   NaN               NaN          NaN   P/DW   \n",
       "\n",
       "                                         title worldwide_gross    year  \n",
       "0                                  Toy Story 3             NaN  2010.0  \n",
       "1                   Alice in Wonderland (2010)             NaN  2010.0  \n",
       "2  Harry Potter and the Deathly Hallows Part 1             NaN  2010.0  \n",
       "3                                    Inception             NaN  2010.0  \n",
       "4                          Shrek Forever After             NaN  2010.0  "
      ]
     },
     "execution_count": 50,
     "metadata": {},
     "output_type": "execute_result"
    }
   ],
   "source": [
    "to_concat = [gross, budget]\n",
    "gross_and_budget = pd.concat(to_concat, sort=True)\n",
    "gross_and_budget.head()"
   ]
  },
  {
   "cell_type": "markdown",
   "metadata": {},
   "source": [
    "I will now fill the null values of the movie column with the non-null values of the title column, and then I will now drop any duplicate movie titles, and then take a look at the info. "
   ]
  },
  {
   "cell_type": "code",
   "execution_count": 51,
   "metadata": {},
   "outputs": [
    {
     "name": "stdout",
     "output_type": "stream",
     "text": [
      "<class 'pandas.core.frame.DataFrame'>\n",
      "Int64Index: 7846 entries, 0 to 5781\n",
      "Data columns (total 8 columns):\n",
      "domestic_gross       7846 non-null object\n",
      "id                   4460 non-null float64\n",
      "movie                7846 non-null object\n",
      "production_budget    4460 non-null object\n",
      "release_date         4460 non-null object\n",
      "studio               3386 non-null object\n",
      "worldwide_gross      4460 non-null object\n",
      "year                 3386 non-null float64\n",
      "dtypes: float64(2), object(6)\n",
      "memory usage: 551.7+ KB\n"
     ]
    }
   ],
   "source": [
    "gross_and_budget.set_index('movie')\n",
    "gross_and_budget['movie'] = gross_and_budget['movie'].fillna(gross_and_budget['title'])\n",
    "gross_and_budget.drop_duplicates(subset='movie', inplace=True)\n",
    "#I can now drop the title column, as it is identical to the movie column.\n",
    "gross_and_budget.drop('title', axis=1, inplace=True)\n",
    "gross_and_budget.info()"
   ]
  },
  {
   "cell_type": "code",
   "execution_count": 52,
   "metadata": {},
   "outputs": [
    {
     "data": {
      "text/html": [
       "<div>\n",
       "<style scoped>\n",
       "    .dataframe tbody tr th:only-of-type {\n",
       "        vertical-align: middle;\n",
       "    }\n",
       "\n",
       "    .dataframe tbody tr th {\n",
       "        vertical-align: top;\n",
       "    }\n",
       "\n",
       "    .dataframe thead th {\n",
       "        text-align: right;\n",
       "    }\n",
       "</style>\n",
       "<table border=\"1\" class=\"dataframe\">\n",
       "  <thead>\n",
       "    <tr style=\"text-align: right;\">\n",
       "      <th></th>\n",
       "      <th>domestic_gross</th>\n",
       "      <th>id</th>\n",
       "      <th>movie</th>\n",
       "      <th>production_budget</th>\n",
       "      <th>release_date</th>\n",
       "      <th>studio</th>\n",
       "      <th>worldwide_gross</th>\n",
       "      <th>year</th>\n",
       "    </tr>\n",
       "  </thead>\n",
       "  <tbody>\n",
       "    <tr>\n",
       "      <td>0</td>\n",
       "      <td>4.15e+08</td>\n",
       "      <td>NaN</td>\n",
       "      <td>Toy Story 3</td>\n",
       "      <td>NaN</td>\n",
       "      <td>NaN</td>\n",
       "      <td>BV</td>\n",
       "      <td>NaN</td>\n",
       "      <td>2010.0</td>\n",
       "    </tr>\n",
       "    <tr>\n",
       "      <td>1</td>\n",
       "      <td>3.342e+08</td>\n",
       "      <td>NaN</td>\n",
       "      <td>Alice in Wonderland (2010)</td>\n",
       "      <td>NaN</td>\n",
       "      <td>NaN</td>\n",
       "      <td>BV</td>\n",
       "      <td>NaN</td>\n",
       "      <td>2010.0</td>\n",
       "    </tr>\n",
       "    <tr>\n",
       "      <td>2</td>\n",
       "      <td>2.96e+08</td>\n",
       "      <td>NaN</td>\n",
       "      <td>Harry Potter and the Deathly Hallows Part 1</td>\n",
       "      <td>NaN</td>\n",
       "      <td>NaN</td>\n",
       "      <td>WB</td>\n",
       "      <td>NaN</td>\n",
       "      <td>2010.0</td>\n",
       "    </tr>\n",
       "    <tr>\n",
       "      <td>3</td>\n",
       "      <td>2.926e+08</td>\n",
       "      <td>NaN</td>\n",
       "      <td>Inception</td>\n",
       "      <td>NaN</td>\n",
       "      <td>NaN</td>\n",
       "      <td>WB</td>\n",
       "      <td>NaN</td>\n",
       "      <td>2010.0</td>\n",
       "    </tr>\n",
       "    <tr>\n",
       "      <td>4</td>\n",
       "      <td>2.387e+08</td>\n",
       "      <td>NaN</td>\n",
       "      <td>Shrek Forever After</td>\n",
       "      <td>NaN</td>\n",
       "      <td>NaN</td>\n",
       "      <td>P/DW</td>\n",
       "      <td>NaN</td>\n",
       "      <td>2010.0</td>\n",
       "    </tr>\n",
       "  </tbody>\n",
       "</table>\n",
       "</div>"
      ],
      "text/plain": [
       "  domestic_gross  id                                        movie  \\\n",
       "0       4.15e+08 NaN                                  Toy Story 3   \n",
       "1      3.342e+08 NaN                   Alice in Wonderland (2010)   \n",
       "2       2.96e+08 NaN  Harry Potter and the Deathly Hallows Part 1   \n",
       "3      2.926e+08 NaN                                    Inception   \n",
       "4      2.387e+08 NaN                          Shrek Forever After   \n",
       "\n",
       "  production_budget release_date studio worldwide_gross    year  \n",
       "0               NaN          NaN     BV             NaN  2010.0  \n",
       "1               NaN          NaN     BV             NaN  2010.0  \n",
       "2               NaN          NaN     WB             NaN  2010.0  \n",
       "3               NaN          NaN     WB             NaN  2010.0  \n",
       "4               NaN          NaN   P/DW             NaN  2010.0  "
      ]
     },
     "execution_count": 52,
     "metadata": {},
     "output_type": "execute_result"
    }
   ],
   "source": [
    "gross_and_budget.head()"
   ]
  },
  {
   "cell_type": "markdown",
   "metadata": {},
   "source": [
    "To do a little more cleaning up, I'll also drop the ID column, and the worldwide_gross column. "
   ]
  },
  {
   "cell_type": "code",
   "execution_count": 53,
   "metadata": {},
   "outputs": [],
   "source": [
    "gross_and_budget.drop('id', axis=1, inplace=True)\n",
    "gross_and_budget.drop('worldwide_gross', axis=1, inplace=True)"
   ]
  },
  {
   "cell_type": "markdown",
   "metadata": {},
   "source": [
    "I'll fill the null values of release_date with the non-null values from year, and then drop the year column. "
   ]
  },
  {
   "cell_type": "code",
   "execution_count": 54,
   "metadata": {},
   "outputs": [],
   "source": [
    "gross_and_budget['release_date'] = gross_and_budget['release_date'].fillna(gross_and_budget['year'])\n",
    "gross_and_budget.drop('year', axis=1, inplace=True)"
   ]
  },
  {
   "cell_type": "markdown",
   "metadata": {},
   "source": [
    "I will delete entries with null values in the production_budget column. Now, I will check to make sure there are no null values."
   ]
  },
  {
   "cell_type": "code",
   "execution_count": 58,
   "metadata": {},
   "outputs": [
    {
     "data": {
      "text/plain": [
       "domestic_gross       0\n",
       "movie                0\n",
       "production_budget    0\n",
       "release_date         0\n",
       "studio               0\n",
       "dtype: int64"
      ]
     },
     "execution_count": 58,
     "metadata": {},
     "output_type": "execute_result"
    }
   ],
   "source": [
    "gross_and_budget = gross_and_budget.dropna(subset=['production_budget'])\n",
    "gross_and_budget['studio'].fillna(\"Unknown Studio\", inplace=True)\n",
    "gross_and_budget.isnull().sum()"
   ]
  },
  {
   "cell_type": "markdown",
   "metadata": {},
   "source": [
    "I will remove all non-numeric characters from production_budget and domestic_gross and then change their series characteristic to a string. "
   ]
  },
  {
   "cell_type": "code",
   "execution_count": 65,
   "metadata": {},
   "outputs": [],
   "source": [
    "#gross_and_budget['production_budget'] = gross_and_budget['production_budget'].str.replace(',', '')\n",
    "#gross_and_budget['production_budget'] = gross_and_budget['production_budget'].str.replace('$', '')\n",
    "#gross_and_budget['domestic_gross'] = gross_and_budget['domestic_gross'].str.replace(',', '')\n",
    "#gross_and_budget['domestic_gross'] = gross_and_budget['domestic_gross'].str.replace('$', '')\n",
    "#gross_and_budget['production_budget'] = gross_and_budget['production_budget'].astype(float).astype(int)\n",
    "#gross_and_budget['domestic_gross'] = gross_and_budget['domestic_gross'].astype(float).astype(int)\n"
   ]
  },
  {
   "cell_type": "code",
   "execution_count": 62,
   "metadata": {},
   "outputs": [
    {
     "name": "stdout",
     "output_type": "stream",
     "text": [
      "<class 'pandas.core.frame.DataFrame'>\n",
      "Int64Index: 4460 entries, 0 to 5781\n",
      "Data columns (total 5 columns):\n",
      "domestic_gross       4460 non-null int64\n",
      "movie                4460 non-null object\n",
      "production_budget    4460 non-null int64\n",
      "release_date         4460 non-null object\n",
      "studio               4460 non-null object\n",
      "dtypes: int64(2), object(3)\n",
      "memory usage: 209.1+ KB\n"
     ]
    }
   ],
   "source": [
    "gross_and_budget.info()"
   ]
  },
  {
   "cell_type": "code",
   "execution_count": 102,
   "metadata": {
    "scrolled": true
   },
   "outputs": [
    {
     "data": {
      "image/png": "[encoded data removed]",
      "text/plain": [
       "<Figure size 1440x576 with 1 Axes>"
      ]
     },
     "metadata": {
      "needs_background": "light"
     },
     "output_type": "display_data"
    }
   ],
   "source": [
    "fig, ax = plt.subplots(figsize = (20, 8))\n",
    "sns.regplot(x='production_budget', y='domestic_gross', data=gross_and_budget)\n",
    "plt.xticks(fontsize = 16)\n",
    "plt.yticks(fontsize = 16)\n",
    "plt.ylabel('Production Budget', fontsize = 16)\n",
    "plt.xlabel('Domestic Profit', fontsize = 16)\n",
    "plt.title('Budget Versus Profit', fontsize = 20)\n",
    "plt.show()"
   ]
  },
  {
   "cell_type": "markdown",
   "metadata": {},
   "source": [
    "I can see that there is a positive correlation between budget and profit (as expected) and so I will check the correlation coefficient, as well as check to see the average profit return pecentage for all listed movies. "
   ]
  },
  {
   "cell_type": "code",
   "execution_count": 68,
   "metadata": {},
   "outputs": [
    {
     "name": "stdout",
     "output_type": "stream",
     "text": [
      "0.6700390124831866\n"
     ]
    }
   ],
   "source": [
    "x1 = gross_and_budget[\"production_budget\"]\n",
    "y1 = gross_and_budget[\"domestic_gross\"]\n",
    "budget_profit_corr = x1.corr(y1)\n",
    "print(budget_profit_corr)"
   ]
  },
  {
   "cell_type": "markdown",
   "metadata": {},
   "source": [
    "This shows a moderate positive correlation. "
   ]
  },
  {
   "cell_type": "code",
   "execution_count": 83,
   "metadata": {},
   "outputs": [],
   "source": [
    "all_dom_mean = gross_and_budget['domestic_gross'].mean()\n",
    "all_budget_mean = gross_and_budget['production_budget'].mean()\n",
    "#profit over budget\n",
    "all_return = (all_dom_mean / all_budget_mean)"
   ]
  },
  {
   "cell_type": "code",
   "execution_count": 84,
   "metadata": {},
   "outputs": [
    {
     "name": "stdout",
     "output_type": "stream",
     "text": [
      "36608449.564798206 27557245.331838567 1.3284509799135196\n"
     ]
    }
   ],
   "source": [
    "print(all_dom_mean,\n",
    "all_budget_mean, all_return)"
   ]
  },
  {
   "cell_type": "markdown",
   "metadata": {},
   "source": [
    "I see here that on average for all movies, every dollar invested into the budget returns about $1.33 in profit. I will now run through the revious few steps again to find if this is the case for the top ten earning movies. "
   ]
  },
  {
   "cell_type": "code",
   "execution_count": 86,
   "metadata": {},
   "outputs": [
    {
     "data": {
      "text/html": [
       "<div>\n",
       "<style scoped>\n",
       "    .dataframe tbody tr th:only-of-type {\n",
       "        vertical-align: middle;\n",
       "    }\n",
       "\n",
       "    .dataframe tbody tr th {\n",
       "        vertical-align: top;\n",
       "    }\n",
       "\n",
       "    .dataframe thead th {\n",
       "        text-align: right;\n",
       "    }\n",
       "</style>\n",
       "<table border=\"1\" class=\"dataframe\">\n",
       "  <thead>\n",
       "    <tr style=\"text-align: right;\">\n",
       "      <th></th>\n",
       "      <th>domestic_gross</th>\n",
       "      <th>movie</th>\n",
       "      <th>production_budget</th>\n",
       "      <th>release_date</th>\n",
       "      <th>studio</th>\n",
       "    </tr>\n",
       "  </thead>\n",
       "  <tbody>\n",
       "    <tr>\n",
       "      <td>5</td>\n",
       "      <td>936662225</td>\n",
       "      <td>Star Wars Ep. VII: The Force Awakens</td>\n",
       "      <td>306000000</td>\n",
       "      <td>Dec 18, 2015</td>\n",
       "      <td>Unknown Studio</td>\n",
       "    </tr>\n",
       "    <tr>\n",
       "      <td>0</td>\n",
       "      <td>760507625</td>\n",
       "      <td>Avatar</td>\n",
       "      <td>425000000</td>\n",
       "      <td>Dec 18, 2009</td>\n",
       "      <td>Unknown Studio</td>\n",
       "    </tr>\n",
       "    <tr>\n",
       "      <td>42</td>\n",
       "      <td>659363944</td>\n",
       "      <td>Titanic</td>\n",
       "      <td>200000000</td>\n",
       "      <td>Dec 19, 1997</td>\n",
       "      <td>Unknown Studio</td>\n",
       "    </tr>\n",
       "    <tr>\n",
       "      <td>26</td>\n",
       "      <td>623279547</td>\n",
       "      <td>The Avengers</td>\n",
       "      <td>225000000</td>\n",
       "      <td>May 4, 2012</td>\n",
       "      <td>Unknown Studio</td>\n",
       "    </tr>\n",
       "    <tr>\n",
       "      <td>4</td>\n",
       "      <td>620181382</td>\n",
       "      <td>Star Wars Ep. VIII: The Last Jedi</td>\n",
       "      <td>317000000</td>\n",
       "      <td>Dec 15, 2017</td>\n",
       "      <td>Unknown Studio</td>\n",
       "    </tr>\n",
       "    <tr>\n",
       "      <td>74</td>\n",
       "      <td>533720947</td>\n",
       "      <td>The Dark Knight</td>\n",
       "      <td>185000000</td>\n",
       "      <td>Jul 18, 2008</td>\n",
       "      <td>Unknown Studio</td>\n",
       "    </tr>\n",
       "    <tr>\n",
       "      <td>134</td>\n",
       "      <td>504014165</td>\n",
       "      <td>Beauty and the Beast</td>\n",
       "      <td>160000000</td>\n",
       "      <td>Mar 17, 2017</td>\n",
       "      <td>Unknown Studio</td>\n",
       "    </tr>\n",
       "    <tr>\n",
       "      <td>303</td>\n",
       "      <td>474544677</td>\n",
       "      <td>Star Wars Ep. I: The Phantom Menace</td>\n",
       "      <td>115000000</td>\n",
       "      <td>May 19, 1999</td>\n",
       "      <td>Unknown Studio</td>\n",
       "    </tr>\n",
       "    <tr>\n",
       "      <td>3464</td>\n",
       "      <td>460998007</td>\n",
       "      <td>Star Wars Ep. IV: A New Hope</td>\n",
       "      <td>11000000</td>\n",
       "      <td>May 25, 1977</td>\n",
       "      <td>Unknown Studio</td>\n",
       "    </tr>\n",
       "    <tr>\n",
       "      <td>692</td>\n",
       "      <td>441226247</td>\n",
       "      <td>Shrek 2</td>\n",
       "      <td>70000000</td>\n",
       "      <td>May 19, 2004</td>\n",
       "      <td>Unknown Studio</td>\n",
       "    </tr>\n",
       "  </tbody>\n",
       "</table>\n",
       "</div>"
      ],
      "text/plain": [
       "      domestic_gross                                 movie  production_budget  \\\n",
       "5          936662225  Star Wars Ep. VII: The Force Awakens          306000000   \n",
       "0          760507625                                Avatar          425000000   \n",
       "42         659363944                               Titanic          200000000   \n",
       "26         623279547                          The Avengers          225000000   \n",
       "4          620181382     Star Wars Ep. VIII: The Last Jedi          317000000   \n",
       "74         533720947                       The Dark Knight          185000000   \n",
       "134        504014165                  Beauty and the Beast          160000000   \n",
       "303        474544677   Star Wars Ep. I: The Phantom Menace          115000000   \n",
       "3464       460998007          Star Wars Ep. IV: A New Hope           11000000   \n",
       "692        441226247                               Shrek 2           70000000   \n",
       "\n",
       "      release_date          studio  \n",
       "5     Dec 18, 2015  Unknown Studio  \n",
       "0     Dec 18, 2009  Unknown Studio  \n",
       "42    Dec 19, 1997  Unknown Studio  \n",
       "26     May 4, 2012  Unknown Studio  \n",
       "4     Dec 15, 2017  Unknown Studio  \n",
       "74    Jul 18, 2008  Unknown Studio  \n",
       "134   Mar 17, 2017  Unknown Studio  \n",
       "303   May 19, 1999  Unknown Studio  \n",
       "3464  May 25, 1977  Unknown Studio  \n",
       "692   May 19, 2004  Unknown Studio  "
      ]
     },
     "execution_count": 86,
     "metadata": {},
     "output_type": "execute_result"
    }
   ],
   "source": [
    "ten_highest_profit = gross_and_budget.nlargest(10, 'domestic_gross')\n",
    "ten_highest_profit.sort_index()\n",
    "ten_highest_profit"
   ]
  },
  {
   "cell_type": "code",
   "execution_count": 88,
   "metadata": {},
   "outputs": [
    {
     "name": "stdout",
     "output_type": "stream",
     "text": [
      "601449876.6 201400000.0 2.986344968222443\n"
     ]
    }
   ],
   "source": [
    "ten_dom_mean = ten_highest_profit['domestic_gross'].mean()\n",
    "ten_budget_mean = ten_highest_profit['production_budget'].mean()\n",
    "top_ten_return = ten_dom_mean / ten_budget_mean\n",
    "print(ten_dom_mean, ten_budget_mean, top_ten_return)"
   ]
  },
  {
   "cell_type": "markdown",
   "metadata": {},
   "source": [
    "For the top ten earners, of course the budgets and profits are much larger, but more imprtantly, the top earners were able to increase their profit per dollar by over double the average of all of the movies. "
   ]
  },
  {
   "cell_type": "code",
   "execution_count": 109,
   "metadata": {},
   "outputs": [
    {
     "name": "stdout",
     "output_type": "stream",
     "text": [
      "0.7921592202728227\n"
     ]
    }
   ],
   "source": [
    "x3 = ten_highest_profit[\"production_budget\"]\n",
    "y3 = ten_highest_profit[\"domestic_gross\"]\n",
    "highest_profit_corr = x3.corr(y3)\n",
    "print(highest_profit_corr)"
   ]
  },
  {
   "cell_type": "code",
   "execution_count": 90,
   "metadata": {},
   "outputs": [
    {
     "data": {
      "text/plain": [
       "16.42926383799492"
      ]
     },
     "execution_count": 90,
     "metadata": {},
     "output_type": "execute_result"
    }
   ],
   "source": [
    "# to take a look at the top ten domestic profit averages versus the profit averages for all:\n",
    "ten_dom_mean / all_dom_mean "
   ]
  },
  {
   "cell_type": "code",
   "execution_count": 92,
   "metadata": {},
   "outputs": [
    {
     "data": {
      "text/plain": [
       "7.30842279679204"
      ]
     },
     "execution_count": 92,
     "metadata": {},
     "output_type": "execute_result"
    }
   ],
   "source": [
    "# to take a look at the top ten budget averages versus the budget averages for all:\n",
    "ten_budget_mean / all_budget_mean"
   ]
  },
  {
   "cell_type": "markdown",
   "metadata": {},
   "source": [
    "To move on to my final question, I will now be investigating the relationship between budget and profit in the movies that had the highest budgets. "
   ]
  },
  {
   "cell_type": "code",
   "execution_count": 105,
   "metadata": {},
   "outputs": [
    {
     "data": {
      "text/html": [
       "<div>\n",
       "<style scoped>\n",
       "    .dataframe tbody tr th:only-of-type {\n",
       "        vertical-align: middle;\n",
       "    }\n",
       "\n",
       "    .dataframe tbody tr th {\n",
       "        vertical-align: top;\n",
       "    }\n",
       "\n",
       "    .dataframe thead th {\n",
       "        text-align: right;\n",
       "    }\n",
       "</style>\n",
       "<table border=\"1\" class=\"dataframe\">\n",
       "  <thead>\n",
       "    <tr style=\"text-align: right;\">\n",
       "      <th></th>\n",
       "      <th>domestic_gross</th>\n",
       "      <th>movie</th>\n",
       "      <th>production_budget</th>\n",
       "      <th>release_date</th>\n",
       "      <th>studio</th>\n",
       "      <th>title length</th>\n",
       "    </tr>\n",
       "  </thead>\n",
       "  <tbody>\n",
       "    <tr>\n",
       "      <td>0</td>\n",
       "      <td>760507625</td>\n",
       "      <td>Avatar</td>\n",
       "      <td>425000000</td>\n",
       "      <td>Dec 18, 2009</td>\n",
       "      <td>Unknown Studio</td>\n",
       "      <td>6</td>\n",
       "    </tr>\n",
       "    <tr>\n",
       "      <td>2</td>\n",
       "      <td>42762350</td>\n",
       "      <td>Dark Phoenix</td>\n",
       "      <td>350000000</td>\n",
       "      <td>Jun 7, 2019</td>\n",
       "      <td>Unknown Studio</td>\n",
       "      <td>12</td>\n",
       "    </tr>\n",
       "    <tr>\n",
       "      <td>4</td>\n",
       "      <td>620181382</td>\n",
       "      <td>Star Wars Ep. VIII: The Last Jedi</td>\n",
       "      <td>317000000</td>\n",
       "      <td>Dec 15, 2017</td>\n",
       "      <td>Unknown Studio</td>\n",
       "      <td>33</td>\n",
       "    </tr>\n",
       "    <tr>\n",
       "      <td>5</td>\n",
       "      <td>936662225</td>\n",
       "      <td>Star Wars Ep. VII: The Force Awakens</td>\n",
       "      <td>306000000</td>\n",
       "      <td>Dec 18, 2015</td>\n",
       "      <td>Unknown Studio</td>\n",
       "      <td>36</td>\n",
       "    </tr>\n",
       "    <tr>\n",
       "      <td>7</td>\n",
       "      <td>309420425</td>\n",
       "      <td>Pirates of the Caribbean: At Worldâs End</td>\n",
       "      <td>300000000</td>\n",
       "      <td>May 24, 2007</td>\n",
       "      <td>Unknown Studio</td>\n",
       "      <td>42</td>\n",
       "    </tr>\n",
       "    <tr>\n",
       "      <td>15</td>\n",
       "      <td>336530303</td>\n",
       "      <td>Spider-Man 3</td>\n",
       "      <td>258000000</td>\n",
       "      <td>May 4, 2007</td>\n",
       "      <td>Unknown Studio</td>\n",
       "      <td>12</td>\n",
       "    </tr>\n",
       "    <tr>\n",
       "      <td>19</td>\n",
       "      <td>302089278</td>\n",
       "      <td>Harry Potter and the Half-Blood Prince</td>\n",
       "      <td>250000000</td>\n",
       "      <td>Jul 15, 2009</td>\n",
       "      <td>Unknown Studio</td>\n",
       "      <td>38</td>\n",
       "    </tr>\n",
       "    <tr>\n",
       "      <td>23</td>\n",
       "      <td>200120000</td>\n",
       "      <td>Superman Returns</td>\n",
       "      <td>232000000</td>\n",
       "      <td>Jun 28, 2006</td>\n",
       "      <td>Unknown Studio</td>\n",
       "      <td>16</td>\n",
       "    </tr>\n",
       "    <tr>\n",
       "      <td>25</td>\n",
       "      <td>169368427</td>\n",
       "      <td>Quantum of Solace</td>\n",
       "      <td>230000000</td>\n",
       "      <td>Nov 14, 2008</td>\n",
       "      <td>Unknown Studio</td>\n",
       "      <td>17</td>\n",
       "    </tr>\n",
       "    <tr>\n",
       "      <td>26</td>\n",
       "      <td>623279547</td>\n",
       "      <td>The Avengers</td>\n",
       "      <td>225000000</td>\n",
       "      <td>May 4, 2012</td>\n",
       "      <td>Unknown Studio</td>\n",
       "      <td>12</td>\n",
       "    </tr>\n",
       "  </tbody>\n",
       "</table>\n",
       "</div>"
      ],
      "text/plain": [
       "    domestic_gross                                       movie  \\\n",
       "0        760507625                                      Avatar   \n",
       "2         42762350                                Dark Phoenix   \n",
       "4        620181382           Star Wars Ep. VIII: The Last Jedi   \n",
       "5        936662225        Star Wars Ep. VII: The Force Awakens   \n",
       "7        309420425  Pirates of the Caribbean: At Worldâs End   \n",
       "15       336530303                                Spider-Man 3   \n",
       "19       302089278      Harry Potter and the Half-Blood Prince   \n",
       "23       200120000                            Superman Returns   \n",
       "25       169368427                           Quantum of Solace   \n",
       "26       623279547                                The Avengers   \n",
       "\n",
       "    production_budget  release_date          studio  title length  \n",
       "0           425000000  Dec 18, 2009  Unknown Studio             6  \n",
       "2           350000000   Jun 7, 2019  Unknown Studio            12  \n",
       "4           317000000  Dec 15, 2017  Unknown Studio            33  \n",
       "5           306000000  Dec 18, 2015  Unknown Studio            36  \n",
       "7           300000000  May 24, 2007  Unknown Studio            42  \n",
       "15          258000000   May 4, 2007  Unknown Studio            12  \n",
       "19          250000000  Jul 15, 2009  Unknown Studio            38  \n",
       "23          232000000  Jun 28, 2006  Unknown Studio            16  \n",
       "25          230000000  Nov 14, 2008  Unknown Studio            17  \n",
       "26          225000000   May 4, 2012  Unknown Studio            12  "
      ]
     },
     "execution_count": 105,
     "metadata": {},
     "output_type": "execute_result"
    }
   ],
   "source": [
    "ten_highest_budget = gross_and_budget.nlargest(10, 'production_budget')\n",
    "ten_highest_budget.sort_index()\n",
    "ten_highest_budget"
   ]
  },
  {
   "cell_type": "code",
   "execution_count": 106,
   "metadata": {},
   "outputs": [
    {
     "data": {
      "image/png": "[encoded data removed]",
      "text/plain": [
       "<Figure size 1440x576 with 1 Axes>"
      ]
     },
     "metadata": {
      "needs_background": "light"
     },
     "output_type": "display_data"
    }
   ],
   "source": [
    "fig, ax = plt.subplots(figsize = (20, 8))\n",
    "sns.regplot(x='production_budget', y='domestic_gross', data=ten_highest_budget)\n",
    "plt.xticks(fontsize = 16)\n",
    "plt.yticks(fontsize = 16)\n",
    "plt.ylabel('Production Budget', fontsize = 16)\n",
    "plt.xlabel('Domestic Profit', fontsize = 16)\n",
    "plt.title('Budget Versus Profit', fontsize = 20)\n",
    "plt.show()"
   ]
  },
  {
   "cell_type": "code",
   "execution_count": 108,
   "metadata": {},
   "outputs": [
    {
     "name": "stdout",
     "output_type": "stream",
     "text": [
      "0.34916067018250274\n"
     ]
    }
   ],
   "source": [
    "x4 = ten_highest_budget[\"production_budget\"]\n",
    "y4 = ten_highest_budget[\"domestic_gross\"]\n",
    "highest_budget_corr = x4.corr(y4)\n",
    "print(highest_budget_corr)"
   ]
  },
  {
   "cell_type": "code",
   "execution_count": 110,
   "metadata": {},
   "outputs": [
    {
     "name": "stdout",
     "output_type": "stream",
     "text": [
      "430092156.2 289300000.0 1.4866649021776701\n"
     ]
    }
   ],
   "source": [
    "ten_dom_mean2 = ten_highest_budget['domestic_gross'].mean()\n",
    "ten_budget_mean2 = ten_highest_budget['production_budget'].mean()\n",
    "top_ten_return2 = ten_dom_mean2 / ten_budget_mean2\n",
    "print(ten_dom_mean2, ten_budget_mean2, top_ten_return2)"
   ]
  },
  {
   "cell_type": "code",
   "execution_count": null,
   "metadata": {},
   "outputs": [],
   "source": []
  }
 ],
 "metadata": {
  "kernelspec": {
   "display_name": "learn-env",
   "language": "python",
   "name": "learn-env"
  },
  "language_info": {
   "codemirror_mode": {
    "name": "ipython",
    "version": 3
   },
   "file_extension": ".py",
   "mimetype": "text/x-python",
   "name": "python",
   "nbconvert_exporter": "python",
   "pygments_lexer": "ipython3",
   "version": "3.6.9"
  }
 },
 "nbformat": 4,
 "nbformat_minor": 4
}
